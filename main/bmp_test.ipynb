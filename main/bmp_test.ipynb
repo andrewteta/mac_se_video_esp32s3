{
 "cells": [
  {
   "cell_type": "code",
   "execution_count": 22,
   "metadata": {},
   "outputs": [
    {
     "name": "stdout",
     "output_type": "stream",
     "text": [
      "/Users/andrewteta/Downloads/IMG_0706-2.bmp\n",
      "header=b'BM'\n",
      "num_bytes=24638\n",
      "offset=62\n"
     ]
    }
   ],
   "source": [
    "\n",
    "from tkinter import filedialog as fd \n",
    "\n",
    "# fpath = fd.askopenfilename()\n",
    "fpath = '/Users/andrewteta/Downloads/IMG_0706-2.bmp'\n",
    "print(fpath)\n",
    "\n",
    "with open(fpath, 'rb') as f:\n",
    "    # throw away header\n",
    "    header = f.read(2)\n",
    "    print(f'{header=}')\n",
    "    num_bytes = int(f.read(1).hex(), 16) + (int(f.read(1).hex(),\n",
    "                                                16) << 8) + (int(f.read(1).hex(), 16) << 16) + (int(f.read(1).hex(), 16) << 24)\n",
    "    print(f'{num_bytes=}')\n",
    "    f.read(2)\n",
    "    f.read(2)\n",
    "    offset = int(f.read(1).hex(), 16) + (int(f.read(1).hex(),\n",
    "                                             16) << 8) + (int(f.read(1).hex(), 16) << 16) + (int(f.read(1).hex(), 16) << 24)\n",
    "    print(f'{offset=}')\n",
    "    \n",
    "    n = 1\n",
    "    byte = f.read(1)\n",
    "    # print(byte)\n",
    "    pixels = []\n",
    "    while(byte):\n",
    "        byte = f.read(1).hex()\n",
    "        # print(byte)\n",
    "        n += 1\n",
    "        pixels.append(byte)\n",
    "    # print(pixels)\n"
   ]
  },
  {
   "cell_type": "code",
   "execution_count": 44,
   "metadata": {},
   "outputs": [
    {
     "data": {
      "text/plain": [
       "24576.0"
      ]
     },
     "execution_count": 44,
     "metadata": {},
     "output_type": "execute_result"
    }
   ],
   "source": [
    "len(pixels)\n",
    "384/8\n",
    "512/8\n",
    "\n",
    "384*512/8\n",
    "\n"
   ]
  },
  {
   "cell_type": "code",
   "execution_count": 45,
   "metadata": {},
   "outputs": [],
   "source": [
    "\n",
    "with open('cosmo.h', 'w') as f:\n",
    "    f.write(f'static const uint8_t cosmo[{len(pixels)}] = {{\\n')\n",
    "    for row in range(384 // 8):\n",
    "        f.write('    ')\n",
    "        for col in range(512 // 8):\n",
    "            index = col + (row * 512)\n",
    "            # print(index)\n",
    "            try:\n",
    "                f.write(f'0x{pixels[index]},')\n",
    "            except:\n",
    "                print(index)\n",
    "        f.write('\\n')\n",
    "    f.write('};\\n')\n",
    "\n"
   ]
  },
  {
   "cell_type": "code",
   "execution_count": null,
   "metadata": {},
   "outputs": [],
   "source": []
  }
 ],
 "metadata": {
  "interpreter": {
   "hash": "aee8b7b246df8f9039afb4144a1f6fd8d2ca17a180786b69acc140d282b71a49"
  },
  "kernelspec": {
   "display_name": "Python 3.9.7 64-bit",
   "language": "python",
   "name": "python3"
  },
  "language_info": {
   "codemirror_mode": {
    "name": "ipython",
    "version": 3
   },
   "file_extension": ".py",
   "mimetype": "text/x-python",
   "name": "python",
   "nbconvert_exporter": "python",
   "pygments_lexer": "ipython3",
   "version": "3.9.6"
  },
  "orig_nbformat": 4
 },
 "nbformat": 4,
 "nbformat_minor": 2
}
